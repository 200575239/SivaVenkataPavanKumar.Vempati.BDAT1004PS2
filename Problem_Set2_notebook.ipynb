{
 "cells": [
  {
   "cell_type": "markdown",
   "id": "b75dcdf6",
   "metadata": {},
   "source": [
    "Question 1"
   ]
  },
  {
   "cell_type": "markdown",
   "id": "32236348",
   "metadata": {},
   "source": [
    "Consider the following Python module:\n",
    "a = 0\n",
    "def b():\n",
    " global a\n",
    " a = c(a)\n",
    "def c(a):\n",
    " return a + 2\n",
    "After importing the module into the interpreter, you execute the following:\n",
    "\n",
    "What value is displayed when the last expression (a) is evaluated? Explain your\n",
    "answer by indicating what happens in every executed statement"
   ]
  },
  {
   "cell_type": "code",
   "execution_count": 1,
   "id": "855ef3c9",
   "metadata": {},
   "outputs": [
    {
     "name": "stdout",
     "output_type": "stream",
     "text": [
      "2\n",
      "4\n",
      "6\n",
      "6\n"
     ]
    }
   ],
   "source": [
    "a = 0\n",
    "def b():\n",
    "    global a\n",
    "    a = c(a)\n",
    "    print(a)\n",
    "\n",
    "def c(a):\n",
    "    return a + 2\n",
    "\n",
    "b()\n",
    "b()\n",
    "b()\n",
    "print(a)"
   ]
  },
  {
   "cell_type": "markdown",
   "id": "f11f613b",
   "metadata": {},
   "source": [
    "6 is the value that is displayed when the last expression print(a) is evaluated"
   ]
  },
  {
   "cell_type": "markdown",
   "id": "45bcbf2e",
   "metadata": {},
   "source": [
    "When the function 'b' runs, it sets a global variable 'a' to start with a value of 0. Then, it proceeds to run function 'c', which increases the value by 2 and sets the result back to 'a'. So, in this case, 'a' becomes 2. This series of steps is repeated two more times."
   ]
  },
  {
   "cell_type": "markdown",
   "id": "45cddf78",
   "metadata": {},
   "source": [
    "Question 2"
   ]
  },
  {
   "cell_type": "markdown",
   "id": "c8702b46",
   "metadata": {},
   "source": [
    "Function fileLength(), given to you, takes the name of a file as input and returns\n",
    "the length of the file:\n",
    "-> fileLength('midterm.py')\n",
    "284\n",
    "-> fileLength('idterm.py')\n",
    "Traceback (most recent call last):\n",
    "File \"<pyshell#34>\", line 1, in <module>\n",
    " fileLength('idterm.py')\n",
    "File \"/Users/me/midterm.py\", line 3, in fileLength\n",
    " infile = open(filename)\n",
    "FileNotFoundError: [Errno 2] No such file or directory:\n",
    "'idterm.py'\n",
    "As shown above, if the file cannot be found by the interpreter or if it cannot be read\n",
    "as a text file, an exception will be raised. Modify function fileLength() so that a\n",
    "friendly message is printed instead:"
   ]
  },
  {
   "cell_type": "code",
   "execution_count": 2,
   "id": "9dca7440",
   "metadata": {},
   "outputs": [
    {
     "name": "stdout",
     "output_type": "stream",
     "text": [
      "123\n",
      "The file file_length.txt is not found, please check the file name or the path and try again.\n"
     ]
    }
   ],
   "source": [
    "def fileLength(file_name):\n",
    "\n",
    "    try:\n",
    "        file = open(file_name, \"r\")\n",
    "    except FileNotFoundError as e:\n",
    "        print(f\"The file {file_name} is not found, please check the file name or the path and try again.\")\n",
    "        return\n",
    "    file_content = file.read()\n",
    "    print(len(file_content))\n",
    "\n",
    "fileLength(\"Filelength.txt\")\n",
    "fileLength(\"file_length.txt\")\n"
   ]
  },
  {
   "cell_type": "markdown",
   "id": "81ce1aa8",
   "metadata": {},
   "source": [
    "Question 3"
   ]
  },
  {
   "cell_type": "raw",
   "id": "fea5b2cf",
   "metadata": {},
   "source": [
    "Write a class named Marsupial that can be used as shown below:\n",
    "-> m = Marsupial()\n",
    "-> m.put_in_pouch('doll')\n",
    "-> m.put_in_pouch('firetruck')\n",
    "-> m.put_in_pouch('kitten')\n",
    "-> m.pouch_contents()\n",
    "['doll', 'firetruck', 'kitten']"
   ]
  },
  {
   "cell_type": "markdown",
   "id": "67a3b4c7",
   "metadata": {},
   "source": [
    "Now write a class named Kangaroo as a subclass of Marsupial that inherits all the\n",
    "attributes of Marsupial and also:\n",
    "a. extends the Marsupial __init__ constructor to take, as input, the\n",
    "coordinates x and y of the Kangaroo object,\n",
    "b. supports method jump that takes number values dx and dy as input and\n",
    "moves the kangaroo by dx units along the x-axis and by dy units along the yaxis, and\n",
    "c. overloads the __str__ operator so it behaves as shown below.\n"
   ]
  },
  {
   "cell_type": "raw",
   "id": "b20499e7",
   "metadata": {},
   "source": [
    "-> k = Kangaroo(0,0)\n",
    "-> print(k)\n",
    "I am a Kangaroo located at coordinates (0,0)\n",
    "-> k.put_in_pouch('doll')\n",
    "-> k.put_in_pouch('firetruck')\n",
    "-> k.put_in_pouch('kitten')\n",
    "-> k.pouch_contents()\n",
    "['doll', 'firetruck', 'kitten']\n",
    "-> k.jump(1,0)\n",
    "-> k.jump(1,0)\n",
    "-> k.jump(1,0)\n",
    "-> print(k)\n",
    "I am a Kangaroo located at coordinates (3,0)"
   ]
  },
  {
   "cell_type": "code",
   "execution_count": 12,
   "id": "22af1878",
   "metadata": {},
   "outputs": [
    {
     "name": "stdout",
     "output_type": "stream",
     "text": [
      "['doll', 'firetruck', 'kitten']\n",
      "I am at Kangaroo located at coordinates (0,0)\n",
      "['doll', 'firetruck', 'kitten']\n",
      "I am at Kangaroo located at coordinates (3,0)\n"
     ]
    }
   ],
   "source": [
    "class Marsupial:\n",
    "\n",
    "    def __init__(self):\n",
    "        self.collect_list = []\n",
    "    def put_in_pouch(self,get_value):\n",
    "        self.collect_list.append(get_value)\n",
    "    def pouch_contents(self):\n",
    "        print(self.collect_list)\n",
    "\n",
    "class Kangaroo(Marsupial):\n",
    "    \n",
    "    def __init__(self,get_x_value,get_y_value):\n",
    "        super().__init__()\n",
    "        self.x_value = get_x_value\n",
    "        self.y_value = get_y_value\n",
    "\n",
    "    def jump(self,get_x_value,get_y_value):\n",
    "        self.x_value += get_x_value\n",
    "        self.y_value += get_y_value\n",
    "    \n",
    "    def __str__(self):\n",
    "        return f\"I am at Kangaroo located at coordinates ({self.x_value},{self.y_value})\"\n",
    "\n",
    "m = Marsupial()\n",
    "m.put_in_pouch('doll')\n",
    "m.put_in_pouch('firetruck')\n",
    "m.put_in_pouch('kitten')\n",
    "m.pouch_contents()\n",
    "k = Kangaroo(0,0)\n",
    "print(k)\n",
    "k.put_in_pouch('doll')\n",
    "k.put_in_pouch('firetruck')\n",
    "k.put_in_pouch('kitten')\n",
    "k.pouch_contents()\n",
    "k.jump(1,0)\n",
    "k.jump(1,0)\n",
    "k.jump(1,0)\n",
    "print(k)"
   ]
  },
  {
   "cell_type": "markdown",
   "id": "f78ec49c",
   "metadata": {},
   "source": [
    "Question 4"
   ]
  },
  {
   "cell_type": "markdown",
   "id": "eefcfdd7",
   "metadata": {},
   "source": [
    "Write function collatz() that takes a positive integer x as input and prints the\n",
    "Collatz sequence starting at x. A Collatz sequence is obtained by repeatedly applying\n",
    "this rule to the previous number x in the sequence:\n",
    "x = {\n",
    "𝑥/2 𝑖𝑓 𝑥 𝑖𝑠 𝑒𝑣𝑒𝑛\n",
    "3𝑥 + 1 𝑖𝑓 𝑥 𝑖𝑠 𝑜𝑑𝑑\n",
    "Your function should stop when the sequence gets to number 1. Your\n",
    "implementation must be recursive, without any loops."
   ]
  },
  {
   "cell_type": "code",
   "execution_count": 16,
   "id": "1c32a7b3",
   "metadata": {},
   "outputs": [
    {
     "name": "stdout",
     "output_type": "stream",
     "text": [
      "collatz(1)\n",
      "1\n",
      "collatz(10)\n",
      "10\n",
      "5\n",
      "16\n",
      "8\n",
      "4\n",
      "2\n",
      "1\n"
     ]
    }
   ],
   "source": [
    "def collatz(number):\n",
    "    while number != 1:\n",
    "        print(number)\n",
    "        if number % 2 == 0:\n",
    "            number = int(number / 2)\n",
    "        else:\n",
    "            number = int(3 * number + 1)\n",
    "    print(1)\n",
    "\n",
    "print(\"collatz(1)\")\n",
    "collatz(1)\n",
    "print(\"collatz(10)\")\n",
    "collatz(10)"
   ]
  },
  {
   "cell_type": "markdown",
   "id": "4c0f285b",
   "metadata": {},
   "source": [
    "Question 5"
   ]
  },
  {
   "cell_type": "markdown",
   "id": "2ac6a1b6",
   "metadata": {},
   "source": [
    "Write a recursive method binary() that takes a non-negative\n",
    "integer n and prints the binary representation of integer n.\n"
   ]
  },
  {
   "cell_type": "code",
   "execution_count": 27,
   "id": "8444708a",
   "metadata": {},
   "outputs": [
    {
     "name": "stdout",
     "output_type": "stream",
     "text": [
      "0\n",
      "1\n",
      "11\n",
      "1001\n"
     ]
    }
   ],
   "source": [
    "def binary(number):\n",
    "    binary_string = \"\"\n",
    "    if number > 0:\n",
    "        while number >0 :\n",
    "            remainder = number % 2\n",
    "            number = number // 2\n",
    "            binary_string = str(remainder) + binary_string\n",
    "        print(binary_string)\n",
    "    elif number == 0:\n",
    "        binary_string = \"0\"\n",
    "        print(binary_string)\n",
    "    else:\n",
    "        print(\"Enter a non negative number\")\n",
    "    \n",
    "binary(0)\n",
    "binary(1)\n",
    "binary(3)\n",
    "binary(9)"
   ]
  },
  {
   "cell_type": "markdown",
   "id": "69304f04",
   "metadata": {},
   "source": [
    "Question 6"
   ]
  },
  {
   "cell_type": "markdown",
   "id": "30f9bb33",
   "metadata": {},
   "source": [
    "Implement a class named HeadingParser that can be used to parse an HTMLdocument, and retrieve and print all the headings in the document. You shouldimplement your class as a subclass of HTMLParser, defined in Standard Librarymodule html.parser. When fed a string containing HTML code, your class shouldprint the headings, one per line and in the order in which they appear in thedocument. Each heading should be indented as follows: an h1 heading should have indentation 0, and h2 heading should have indentation 1, etc. Test yourimplementation using w3c.html."
   ]
  },
  {
   "cell_type": "markdown",
   "id": "3d1cbc38",
   "metadata": {},
   "source": [
    "-> infile = open('w3c.html')\n",
    "-> content = infile.read()\n",
    "-> infile.close()\n",
    "-> hp = HeadingParser()\n",
    "-> hp.feed(content)\n",
    "W3C Mission\n",
    "Principles\n"
   ]
  },
  {
   "cell_type": "code",
   "execution_count": 3,
   "id": "abe01d22",
   "metadata": {},
   "outputs": [
    {
     "name": "stdout",
     "output_type": "stream",
     "text": [
      "W3C Mission\n",
      " Principles\n"
     ]
    }
   ],
   "source": [
    "from html.parser import HTMLParser\n",
    "\n",
    "class HeadingParser(HTMLParser):\n",
    "    def __init__(self):\n",
    "        super().__init__()\n",
    "        self.headings = []\n",
    "        self.current_heading = None\n",
    "\n",
    "    def handle_starttag(self, tag, attrs):\n",
    "        if tag.startswith('h') and tag[1:].isdigit():\n",
    "            self.current_heading = {'level': int(tag[1]), 'text': ''}\n",
    "\n",
    "    def handle_data(self, data):\n",
    "        if self.current_heading:\n",
    "            self.current_heading['text'] += data\n",
    "\n",
    "    def handle_endtag(self, tag):\n",
    "        if self.current_heading:\n",
    "            self.headings.append(self.current_heading)\n",
    "            self.current_heading = None\n",
    "\n",
    "    def print_headings(self):\n",
    "        for heading in self.headings:\n",
    "            print(' ' * (heading['level'] - 1) + heading['text'])\n",
    "\n",
    "\n",
    "infile = open(\"w3c.html\", \"r\")\n",
    "content = infile.read()\n",
    "infile.close()\n",
    "hp = HeadingParser()\n",
    "hp.feed(content)\n",
    "hp.print_headings()"
   ]
  },
  {
   "cell_type": "markdown",
   "id": "0ea7640b",
   "metadata": {},
   "source": [
    "Question 7"
   ]
  },
  {
   "cell_type": "markdown",
   "id": "73562863",
   "metadata": {},
   "source": [
    "Implement recursive function webdir() that takes as input: a URL (as a string) and\n",
    "non-negative integers depth and indent. Your function should visit every web\n",
    "page reachable from the starting URL web page in depth clicks or less, and print\n",
    "each web page's URL. As shown below, indentation, specified by indent, should\n",
    "be used to indicate the depth of a URL."
   ]
  },
  {
   "cell_type": "markdown",
   "id": "74fe2221",
   "metadata": {},
   "source": [
    "->\n",
    "webdir('http://reed.cs.depaul.edu/lperkovic/csc242/test1.html'\n",
    ", 2, 0)\n",
    "http://reed.cs.depaul.edu/lperkovic/csc242/test1.html\n",
    " http://reed.cs.depaul.edu/lperkovic/csc242/test2.html\n",
    " http://reed.cs.depaul.edu/lperkovic/csc242/test4.html\n",
    " http://reed.cs.depaul.edu/lperkovic/csc242/test3.html\n",
    " http://reed.cs.depaul.edu/lperkovic/csc242/test4.html"
   ]
  },
  {
   "cell_type": "code",
   "execution_count": 41,
   "id": "6269bca7",
   "metadata": {},
   "outputs": [
    {
     "name": "stdout",
     "output_type": "stream",
     "text": [
      "Error: 404 Client Error:  for url: http://reed.cs.depaul.edu/lperkovic/csc242/test1.html\n"
     ]
    }
   ],
   "source": [
    "import requests\n",
    "\n",
    "def webdir(url, depth, indent):\n",
    "    if depth < 0:\n",
    "        return\n",
    "\n",
    "    try:\n",
    "        response = requests.get(url)\n",
    "        response.raise_for_status()\n",
    "\n",
    "        print(' ' * indent + url)\n",
    "\n",
    "        if depth > 0:\n",
    "            links = find_links(response.text)\n",
    "            for link in links:\n",
    "                webdir(link, depth - 1, indent + 4)\n",
    "\n",
    "    except requests.exceptions.RequestException as e:\n",
    "        print(' ' * indent + f\"Error: {e}\")\n",
    "\n",
    "def find_links(html_content):\n",
    "    links = []\n",
    "    start = 0\n",
    "    while True:\n",
    "        start = html_content.find('href=\"', start)\n",
    "        if start == -1:\n",
    "            break\n",
    "        start += 6\n",
    "        end = html_content.find('\"', start)\n",
    "        if end == -1:\n",
    "            break\n",
    "        links.append(html_content[start:end])\n",
    "        start = end\n",
    "    return links\n",
    "\n",
    "webdir('http://reed.cs.depaul.edu/lperkovic/csc242/test1.html', 2, 0)"
   ]
  },
  {
   "cell_type": "markdown",
   "id": "57b146ae",
   "metadata": {},
   "source": [
    "Question 8"
   ]
  },
  {
   "cell_type": "markdown",
   "id": "ca14d0e1",
   "metadata": {},
   "source": [
    "Write SQL queries on the below database table that return: "
   ]
  },
  {
   "cell_type": "markdown",
   "id": "7d0d5cde",
   "metadata": {},
   "source": [
    "Going to assume the name of the Table data give in the question as \"SampleWeatherData\""
   ]
  },
  {
   "cell_type": "markdown",
   "id": "a1cb0b2e",
   "metadata": {},
   "source": [
    "a) All the temperature data:"
   ]
  },
  {
   "cell_type": "code",
   "execution_count": null,
   "id": "d1a3c643",
   "metadata": {},
   "outputs": [],
   "source": [
    "SELECT Temperature\n",
    "FROM SampleWeatherData;"
   ]
  },
  {
   "cell_type": "markdown",
   "id": "063be6d9",
   "metadata": {},
   "source": [
    "b) All the cities, but without repetition:"
   ]
  },
  {
   "cell_type": "code",
   "execution_count": null,
   "id": "4c72a618",
   "metadata": {},
   "outputs": [],
   "source": [
    "SELECT DISTINCT City\n",
    "FROM SampleWeatherData;"
   ]
  },
  {
   "cell_type": "markdown",
   "id": "4f0d0161",
   "metadata": {},
   "source": [
    "c) All the records for India:"
   ]
  },
  {
   "cell_type": "code",
   "execution_count": null,
   "id": "d12ff541",
   "metadata": {},
   "outputs": [],
   "source": [
    "SELECT *\n",
    "FROM SampleWeatherData\n",
    "WHERE Country = 'India';"
   ]
  },
  {
   "cell_type": "markdown",
   "id": "36ccad75",
   "metadata": {},
   "source": [
    "d) All the Fall records:"
   ]
  },
  {
   "cell_type": "code",
   "execution_count": null,
   "id": "b68707de",
   "metadata": {},
   "outputs": [],
   "source": [
    "SELECT *\n",
    "FROM SampleWeatherData\n",
    "WHERE Season = 'Fall';"
   ]
  },
  {
   "cell_type": "markdown",
   "id": "65e9400e",
   "metadata": {},
   "source": [
    "e) The city, country, and season for which the average rainfall is between 200 and 400 millimeters:"
   ]
  },
  {
   "cell_type": "code",
   "execution_count": null,
   "id": "e62100f8",
   "metadata": {},
   "outputs": [],
   "source": [
    "SELECT City, Country, Season\n",
    "FROM SampleWeatherData\n",
    "GROUP BY City, Country, Season\n",
    "HAVING AVG(Rainfall) BETWEEN 200 AND 400;"
   ]
  },
  {
   "cell_type": "markdown",
   "id": "ff8a5230",
   "metadata": {},
   "source": [
    "f) The city and country for which the average Fall temperature is above 20 degrees, in increasing temperature order:"
   ]
  },
  {
   "cell_type": "code",
   "execution_count": null,
   "id": "6826b066",
   "metadata": {},
   "outputs": [],
   "source": [
    "SELECT City, Country\n",
    "FROM SampleWeatherData\n",
    "WHERE Season = 'Fall'\n",
    "GROUP BY City, Country\n",
    "HAVING AVG(Temperature) > 20\n",
    "ORDER BY AVG(Temperature) ASC;"
   ]
  },
  {
   "cell_type": "markdown",
   "id": "3bd274eb",
   "metadata": {},
   "source": [
    "g) The total annual rainfall for Cairo:"
   ]
  },
  {
   "cell_type": "code",
   "execution_count": null,
   "id": "2082635d",
   "metadata": {},
   "outputs": [],
   "source": [
    "SELECT City, SUM(Rainfall) AS TotalRainfall\n",
    "FROM SampleWeatherData\n",
    "WHERE City = 'Cairo'\n",
    "GROUP BY City;"
   ]
  },
  {
   "cell_type": "markdown",
   "id": "e5ee0dbc",
   "metadata": {},
   "source": [
    "h) The total rainfall for each season:"
   ]
  },
  {
   "cell_type": "code",
   "execution_count": null,
   "id": "1c56aee6",
   "metadata": {},
   "outputs": [],
   "source": [
    "SELECT Season, SUM(Rainfall) AS TotalRainfall\n",
    "FROM SampleWeatherData\n",
    "GROUP BY Season;"
   ]
  },
  {
   "cell_type": "markdown",
   "id": "ed48d96e",
   "metadata": {},
   "source": [
    "Question 9"
   ]
  },
  {
   "cell_type": "raw",
   "id": "753d6d00",
   "metadata": {},
   "source": [
    ". Suppose list words is defined as follows:\n",
    "-> words = ['The', 'quick', 'brown', 'fox', 'jumps', 'over',\n",
    "'the', 'lazy', 'dog']\n",
    "Write list comprehension expressions that use list words and generate the following\n",
    "lists:\n",
    "a) ['THE', 'QUICK', 'BROWN', 'FOX', 'JUMPS', 'OVER', 'THE',\n",
    "'LAZY', 'DOG']\n",
    "b) ['the', 'quick', 'brown', 'fox', 'jumps', 'over', 'the',\n",
    "'lazy', 'dog']\n",
    "c) [3, 5, 5, 3, 5, 4, 3, 4, 3] (the list of lengths of words in list\n",
    "words).\n",
    "d) [['THE', 'the', 3], ['QUICK', 'quick', 5], ['BROWN',\n",
    "'brown', 5], ['FOX', 'fox', 3], ['JUMPS', 'jumps', 5],\n",
    "['OVER', 'over', 4], ['THE', 'the', 3], ['LAZY', 'lazy',\n",
    "4], ['DOG', 'dog', 3]] (the list containing a list for every word of list\n",
    "words, where each list contains the word in uppercase and lowercase and the\n",
    "length of the word.)\n",
    "e) ['The', 'quick', 'brown', 'fox', 'jumps', 'over', 'the',\n",
    "'lazy', 'dog'] (the list of words in list words containing 4 or more\n",
    "characters.)"
   ]
  },
  {
   "cell_type": "markdown",
   "id": "817ec529",
   "metadata": {},
   "source": [
    "a) Convert all words to uppercase:"
   ]
  },
  {
   "cell_type": "code",
   "execution_count": 46,
   "id": "7a9cc3cd",
   "metadata": {},
   "outputs": [
    {
     "name": "stdout",
     "output_type": "stream",
     "text": [
      "['THE', 'QUICK', 'BROWN', 'FOX', 'JUMPS', 'OVER', 'THE', 'LAZY', 'DOG']\n"
     ]
    }
   ],
   "source": [
    "words = ['The', 'quick', 'brown', 'fox', 'jumps', 'over', 'the', 'lazy', 'dog']\n",
    "upper_words = [word.upper() for word in words]\n",
    "print (upper_words)"
   ]
  },
  {
   "cell_type": "markdown",
   "id": "47155fc0",
   "metadata": {},
   "source": [
    "b) Convert all words to lowercase:"
   ]
  },
  {
   "cell_type": "code",
   "execution_count": 48,
   "id": "2d972399",
   "metadata": {},
   "outputs": [
    {
     "name": "stdout",
     "output_type": "stream",
     "text": [
      "['the', 'quick', 'brown', 'fox', 'jumps', 'over', 'the', 'lazy', 'dog']\n"
     ]
    }
   ],
   "source": [
    "words = ['The', 'quick', 'brown', 'fox', 'jumps', 'over', 'the', 'lazy', 'dog']\n",
    "lower_words = [word.lower() for word in words]\n",
    "print (lower_words)"
   ]
  },
  {
   "cell_type": "markdown",
   "id": "dfa178ba",
   "metadata": {},
   "source": [
    "c) Get the lengths of the words:"
   ]
  },
  {
   "cell_type": "code",
   "execution_count": 49,
   "id": "1f046e53",
   "metadata": {},
   "outputs": [
    {
     "name": "stdout",
     "output_type": "stream",
     "text": [
      "[3, 5, 5, 3, 5, 4, 3, 4, 3]\n"
     ]
    }
   ],
   "source": [
    "words = ['The', 'quick', 'brown', 'fox', 'jumps', 'over', 'the', 'lazy', 'dog']\n",
    "word_lengths = [len(word) for word in words]\n",
    "print (word_lengths)"
   ]
  },
  {
   "cell_type": "markdown",
   "id": "ecc7ace1",
   "metadata": {},
   "source": [
    "d) Create a list of lists with the word in uppercase, lowercase, and the length:"
   ]
  },
  {
   "cell_type": "code",
   "execution_count": 50,
   "id": "9407f938",
   "metadata": {},
   "outputs": [
    {
     "name": "stdout",
     "output_type": "stream",
     "text": [
      "[['THE', 'the', 3], ['QUICK', 'quick', 5], ['BROWN', 'brown', 5], ['FOX', 'fox', 3], ['JUMPS', 'jumps', 5], ['OVER', 'over', 4], ['THE', 'the', 3], ['LAZY', 'lazy', 4], ['DOG', 'dog', 3]]\n"
     ]
    }
   ],
   "source": [
    "words = ['The', 'quick', 'brown', 'fox', 'jumps', 'over', 'the', 'lazy', 'dog']\n",
    "word_info = [[word.upper(), word.lower(), len(word)] for word in words]\n",
    "print (word_info)"
   ]
  },
  {
   "cell_type": "markdown",
   "id": "993c5b9d",
   "metadata": {},
   "source": [
    "e) Filter words with 4 or more characters:"
   ]
  },
  {
   "cell_type": "code",
   "execution_count": 51,
   "id": "63a50b0a",
   "metadata": {},
   "outputs": [
    {
     "name": "stdout",
     "output_type": "stream",
     "text": [
      "['quick', 'brown', 'jumps', 'over', 'lazy']\n"
     ]
    }
   ],
   "source": [
    "words = ['The', 'quick', 'brown', 'fox', 'jumps', 'over', 'the', 'lazy', 'dog']\n",
    "long_words = [word for word in words if len(word) >= 4]\n",
    "print (long_words)"
   ]
  }
 ],
 "metadata": {
  "kernelspec": {
   "display_name": "Python 3 (ipykernel)",
   "language": "python",
   "name": "python3"
  },
  "language_info": {
   "codemirror_mode": {
    "name": "ipython",
    "version": 3
   },
   "file_extension": ".py",
   "mimetype": "text/x-python",
   "name": "python",
   "nbconvert_exporter": "python",
   "pygments_lexer": "ipython3",
   "version": "3.11.4"
  }
 },
 "nbformat": 4,
 "nbformat_minor": 5
}
